{
 "cells": [
  {
   "cell_type": "code",
   "execution_count": 1,
   "id": "54bb4c14",
   "metadata": {},
   "outputs": [],
   "source": [
    "from pwn import *\n",
    "import random\n",
    "import re, sys"
   ]
  },
  {
   "cell_type": "code",
   "execution_count": 2,
   "id": "5ad8f149",
   "metadata": {},
   "outputs": [],
   "source": [
    "def power(a, n, p):\n",
    "    res = 1\n",
    "    a = a % p \n",
    "    while n > 0:\n",
    "        if n % 2:\n",
    "            res = (res * a) % p\n",
    "            n = n - 1\n",
    "        else:\n",
    "            a = (a ** 2) % p\n",
    "            n = n // 2\n",
    "    return res % p\n",
    "\n",
    "def isPrime(n, k = 10):\n",
    "    if n == 2 or n == 3:\n",
    "        return True\n",
    "    elif n<5:\n",
    "        return False\n",
    "    else:\n",
    "        for i in range(k):\n",
    "            a = random.randint(2, n - 2)\n",
    "            if power(a, n - 1, n) != 1:\n",
    "                return False\n",
    "    return True\n",
    "\n",
    "def extended_euclidean(a, b):\n",
    "    if a == 0:\n",
    "        return (b, 0, 1)\n",
    "    else:\n",
    "        g, y, x = extended_euclidean(b % a, a)\n",
    "        return (g, x - (b // a) * y, y)\n",
    "\n",
    "def modinv(a, m):\n",
    "    g, x, y = extended_euclidean(a, m)\n",
    "    return x % m\n",
    "  \n",
    "# function implementing Chinese remainder theorem\n",
    "# list m contains all the modulii\n",
    "# list x contains the remainders of the equations\n",
    "def crt(m, x):\n",
    "  \n",
    "    # We run this loop while the list of\n",
    "    # remainders has length greater than 1\n",
    "    while True:\n",
    "          \n",
    "        # temp1 will contain the new value \n",
    "        # of A. which is calculated according \n",
    "        # to the equation m1' * m1 * x0 + m0'\n",
    "        # * m0 * x1\n",
    "        temp1 = modinv(m[1],m[0]) * x[0] * m[1] + \\\n",
    "                modinv(m[0],m[1]) * x[1] * m[0]\n",
    "  \n",
    "        # temp2 contains the value of the modulus\n",
    "        # in the new equation, which will be the \n",
    "        # product of the modulii of the two\n",
    "        # equations that we are combining\n",
    "        temp2 = m[0] * m[1]\n",
    "  \n",
    "        # we then remove the first two elements\n",
    "        # from the list of remainders, and replace\n",
    "        # it with the remainder value, which will\n",
    "        # be temp1 % temp2\n",
    "        x.remove(x[0])\n",
    "        x.remove(x[0])\n",
    "        x = [temp1 % temp2] + x \n",
    "  \n",
    "        # we then remove the first two values from\n",
    "        # the list of modulii as we no longer require\n",
    "        # them and simply replace them with the new \n",
    "        # modulii that  we calculated\n",
    "        m.remove(m[0])\n",
    "        m.remove(m[0])\n",
    "        m = [temp2] + m\n",
    "  \n",
    "        # once the list has only one element left,\n",
    "        # we can break as it will only  contain \n",
    "        # the value of our final remainder\n",
    "        if len(x) == 1:\n",
    "            break\n",
    "  \n",
    "    # returns the remainder of the final equation\n",
    "    return x[0]"
   ]
  },
  {
   "cell_type": "code",
   "execution_count": 3,
   "id": "fa4f0646",
   "metadata": {},
   "outputs": [
    {
     "name": "stdout",
     "output_type": "stream",
     "text": [
      "[2, 3, 5, 7, 11, 13, 17, 19, 23, 29, 31, 37, 41, 43, 47, 53, 59, 61, 67, 71, 73, 79, 83, 89, 97, 101, 103, 107, 109, 113, 127, 131, 137, 139, 149, 151, 157, 163, 167, 173, 179, 181, 191, 193, 197, 199, 211, 223, 227, 229, 233, 239, 241, 251, 257, 263, 269, 271, 277, 281, 283, 293, 307, 311, 313, 317, 331, 337, 347, 349, 353, 359, 367, 373, 379, 383, 389, 397, 401, 409, 419, 421, 431, 433, 439, 443, 449, 457, 461, 463, 467, 479, 487, 491, 499, 503, 509, 521, 523, 541, 547, 557, 563, 569, 571, 577, 587, 593, 599, 601, 607, 613, 617, 619, 631, 641, 643, 647, 653, 659, 661, 673, 677, 683, 691, 701, 709, 719, 727, 733, 739, 743, 751, 757, 761, 769, 773, 787, 797, 809, 811, 821, 823, 827, 829, 839, 853, 857, 859, 863, 877, 881, 883, 887, 907, 911, 919, 929, 937, 941, 947, 953, 967, 971, 977, 983, 991, 997, 1009, 1013, 1019, 1021, 1031, 1033, 1039, 1049, 1051, 1061, 1063, 1069, 1087, 1091, 1093, 1097, 1103, 1109, 1117, 1123, 1129, 1151, 1153, 1163, 1171, 1181, 1187, 1193, 1201, 1213, 1217, 1223, 1229, 1231, 1237, 1249, 1259, 1277, 1279, 1283, 1289, 1291, 1297]\n"
     ]
    }
   ],
   "source": [
    "N = 200\n",
    "M = 100\n",
    "l = list()\n",
    "\n",
    "while len(l) < N:\n",
    "    l += filter(isPrime, range(M - 100, M)) # append prime element of [M - 100, M] to l\n",
    "    M += 100\n",
    "\n",
    "print(l)"
   ]
  },
  {
   "cell_type": "code",
   "execution_count": 6,
   "id": "12ea40b3",
   "metadata": {},
   "outputs": [
    {
     "name": "stdout",
     "output_type": "stream",
     "text": [
      "[x] Opening connection to crypto.be.ax on port 6000\n",
      "[x] Opening connection to crypto.be.ax on port 6000: Trying 35.208.182.172\n",
      "[+] Opening connection to crypto.be.ax on port 6000: Done\n",
      "[x] Opening connection to crypto.be.ax on port 6000\n",
      "[x] Opening connection to crypto.be.ax on port 6000: Trying 35.208.182.172\n",
      "[+] Opening connection to crypto.be.ax on port 6000: Done\n",
      "[x] Opening connection to crypto.be.ax on port 6000\n",
      "[x] Opening connection to crypto.be.ax on port 6000: Trying 35.208.182.172\n",
      "[+] Opening connection to crypto.be.ax on port 6000: Done\n",
      "[x] Opening connection to crypto.be.ax on port 6000\n",
      "[x] Opening connection to crypto.be.ax on port 6000: Trying 35.208.182.172\n",
      "[+] Opening connection to crypto.be.ax on port 6000: Done\n"
     ]
    }
   ],
   "source": [
    "m = []\n",
    "x = []\n",
    "i = 0\n",
    "while (i < N):\n",
    "    r = remote('crypto.be.ax', 6000)\n",
    "    g = int(r.recvline().split()[-1])\n",
    "    p = int(r.recvline().split()[-1])\n",
    "    ef = int(r.recvline().split()[-1])\n",
    "    for j in range(64):\n",
    "        r.recvuntil(b'> ', drop=True)\n",
    "        r.sendline(str(l[i]).encode())\n",
    "        ctr = int(r.recvline())\n",
    "        base = pow(ctr, l[i], p)\n",
    "        for rr in range(l[i]):\n",
    "            if (base*pow(g, rr, p)%p == ef):\n",
    "                m.append(l[i])\n",
    "                x.append(rr)\n",
    "                print(l[i], rr)\n",
    "                break\n",
    "        i = i+1\n",
    "        if (i >= N):\n",
    "            break"
   ]
  },
  {
   "cell_type": "code",
   "execution_count": 10,
   "id": "fddb1ad7",
   "metadata": {},
   "outputs": [],
   "source": [
    "from binascii import unhexlify\n",
    "\n",
    "def long_to_bytes (val, endianness='big'):\n",
    "    \"\"\"\n",
    "    Use :ref:`string formatting` and :func:`~binascii.unhexlify` to\n",
    "    convert ``val``, a :func:`long`, to a byte :func:`str`.\n",
    "\n",
    "    :param long val: The value to pack\n",
    "\n",
    "    :param str endianness: The endianness of the result. ``'big'`` for\n",
    "      big-endian, ``'little'`` for little-endian.\n",
    "\n",
    "    If you want byte- and word-ordering to differ, you're on your own.\n",
    "\n",
    "    Using :ref:`string formatting` lets us use Python's C innards.\n",
    "    \"\"\"\n",
    "\n",
    "    # one (1) hex digit per four (4) bits\n",
    "    width = val.bit_length()\n",
    "\n",
    "    # unhexlify wants an even multiple of eight (8) bits, but we don't\n",
    "    # want more digits than we need (hence the ternary-ish 'or')\n",
    "    width += 8 - ((width % 8) or 8)\n",
    "\n",
    "    # format width specifier: four (4) bits per hex digit\n",
    "    fmt = '%%0%dx' % (width // 4)\n",
    "\n",
    "    # prepend zero (0) to the width, to zero-pad the output\n",
    "    s = unhexlify(fmt % val)\n",
    "\n",
    "    if endianness == 'little':\n",
    "        # see http://stackoverflow.com/a/931095/309233\n",
    "        s = s[::-1]\n",
    "\n",
    "    return s"
   ]
  },
  {
   "cell_type": "code",
   "execution_count": 11,
   "id": "ab2b47b0",
   "metadata": {},
   "outputs": [
    {
     "data": {
      "text/plain": [
       "b'corctf{qu4drat1c_r3s1due_0r_n0t_1s_7h3_qu3st1on8852042051e57492}'"
      ]
     },
     "execution_count": 11,
     "metadata": {},
     "output_type": "execute_result"
    }
   ],
   "source": [
    "long_to_bytes(crt(m, x))"
   ]
  },
  {
   "cell_type": "code",
   "execution_count": 7,
   "id": "6cffb6d4",
   "metadata": {},
   "outputs": [
    {
     "name": "stdout",
     "output_type": "stream",
     "text": [
      "5207851285831991069018664616693415824195562260751582516097806772363284738507980478829791747964096025668757404599258689372930479386523996608148861164794493\n"
     ]
    }
   ],
   "source": [
    "print(crt(m, x))"
   ]
  },
  {
   "cell_type": "code",
   "execution_count": null,
   "id": "e2c5bd5d",
   "metadata": {},
   "outputs": [],
   "source": [
    "5207851285831991069018664616693415824195562260751582516097806772363284738507980478829791747964096025668757404599258689372930479386523996608148861164794493"
   ]
  }
 ],
 "metadata": {
  "kernelspec": {
   "display_name": "Python 3",
   "language": "python",
   "name": "python3"
  },
  "language_info": {
   "codemirror_mode": {
    "name": "ipython",
    "version": 3
   },
   "file_extension": ".py",
   "mimetype": "text/x-python",
   "name": "python",
   "nbconvert_exporter": "python",
   "pygments_lexer": "ipython3",
   "version": "3.8.8"
  }
 },
 "nbformat": 4,
 "nbformat_minor": 5
}
